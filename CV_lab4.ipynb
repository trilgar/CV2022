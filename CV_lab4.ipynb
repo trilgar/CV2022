{
  "cells": [
    {
      "cell_type": "markdown",
      "metadata": {
        "id": "view-in-github",
        "colab_type": "text"
      },
      "source": [
        "<a href=\"https://colab.research.google.com/github/trilgar/CV2022/blob/main/CV_lab4.ipynb\" target=\"_parent\"><img src=\"https://colab.research.google.com/assets/colab-badge.svg\" alt=\"Open In Colab\"/></a>"
      ]
    },
    {
      "cell_type": "code",
      "execution_count": 108,
      "outputs": [],
      "source": [
        "import torch\n",
        "import torchvision\n",
        "import torchvision.transforms as transforms\n",
        "import matplotlib.pyplot as plt\n",
        "from glob import glob\n",
        "from torch.utils.data import DataLoader, Dataset\n",
        "from PIL import Image\n",
        "import numpy as np\n",
        "from torchvision import datasets\n",
        "from tqdm import tqdm\n",
        "import sys\n",
        "import torch.nn.functional as F\n",
        "import torch.nn as nn"
      ],
      "metadata": {
        "id": "DlpHODRori1p"
      }
    },
    {
      "cell_type": "markdown",
      "source": [
        "Встановлення сіду генератору"
      ],
      "metadata": {
        "collapsed": false,
        "id": "oan1RHvuri1r"
      }
    },
    {
      "cell_type": "code",
      "execution_count": 109,
      "outputs": [
        {
          "output_type": "execute_result",
          "data": {
            "text/plain": [
              "<torch._C.Generator at 0x7f08d01766b0>"
            ]
          },
          "metadata": {},
          "execution_count": 109
        }
      ],
      "source": [
        "torch.manual_seed(10)"
      ],
      "metadata": {
        "colab": {
          "base_uri": "https://localhost:8080/"
        },
        "id": "YyBA965Jri1s",
        "outputId": "68845b51-13d4-4494-ad63-a26db8c51810"
      }
    },
    {
      "cell_type": "markdown",
      "source": [
        "Завантаження датасету MNIST"
      ],
      "metadata": {
        "collapsed": false,
        "id": "HraOUDsHri1t"
      }
    },
    {
      "cell_type": "code",
      "execution_count": 110,
      "outputs": [],
      "source": [
        "transform = transforms.Compose(\n",
        "    [transforms.ToTensor(),\n",
        "     transforms.Normalize((0.5, 0.5, 0.5), (0.5, 0.5, 0.5))])\n",
        "\n",
        "batch_size = 16\n",
        "trainset = torchvision.datasets.MNIST('/files/', train=True, download=True,\n",
        "                             transform=torchvision.transforms.Compose([\n",
        "                               torchvision.transforms.ToTensor(),\n",
        "                               torchvision.transforms.Normalize(\n",
        "                                 (0.1307,), (0.3081,))\n",
        "                             ]))\n",
        "trainloader = torch.utils.data.DataLoader(\n",
        "  trainset,\n",
        "  batch_size=batch_size, shuffle=True)\n",
        "\n",
        "testloader = torch.utils.data.DataLoader(\n",
        "  torchvision.datasets.MNIST('/files/', train=False, download=True,\n",
        "                             transform=torchvision.transforms.Compose([\n",
        "                               torchvision.transforms.ToTensor(),\n",
        "                               torchvision.transforms.Normalize(\n",
        "                                 (0.1307,), (0.3081,))\n",
        "                             ])),\n",
        "  batch_size=batch_size, shuffle=True)"
      ],
      "metadata": {
        "id": "lmpt5iWcri1t"
      }
    },
    {
      "cell_type": "code",
      "execution_count": 111,
      "outputs": [
        {
          "output_type": "display_data",
          "data": {
            "text/plain": [
              "<Figure size 576x576 with 9 Axes>"
            ],
            "image/png": "[encoded data removed]"
          },
          "metadata": {
            "needs_background": "light"
          }
        }
      ],
      "source": [
        "figure = plt.figure(figsize=(8, 8))\n",
        "cols, rows = 3, 3\n",
        "for i in range(1, cols * rows + 1):\n",
        "    sample_idx = torch.randint(len(trainset), size=(1,)).item()\n",
        "    img, label = trainset[sample_idx]\n",
        "    figure.add_subplot(rows, cols, i)\n",
        "    plt.axis(\"off\")\n",
        "    plt.imshow(img.squeeze().numpy(), cmap='Greys')\n",
        "plt.show()"
      ],
      "metadata": {
        "colab": {
          "base_uri": "https://localhost:8080/",
          "height": 466
        },
        "id": "oLPOQOlPri1u",
        "outputId": "a5717b7e-8fe2-47a1-9ab1-ff657dd78dc0"
      }
    },
    {
      "cell_type": "markdown",
      "source": [
        "Модель"
      ],
      "metadata": {
        "collapsed": false,
        "id": "7GGILOFuri1u"
      }
    },
    {
      "cell_type": "code",
      "execution_count": 112,
      "outputs": [],
      "source": [
        "device = torch.device('cuda' if torch.cuda.is_available() else 'cpu')"
      ],
      "metadata": {
        "id": "CCLvXndHri1u"
      }
    },
    {
      "cell_type": "code",
      "execution_count": 113,
      "outputs": [],
      "source": [
        "class CNN(nn.Module):\n",
        "    def __init__(self, out_features):\n",
        "        super(CNN, self).__init__()\n",
        "        self.conv1 = nn.Conv2d(1, 10, kernel_size=5)\n",
        "        self.conv2 = nn.Conv2d(10, 20, kernel_size=5)\n",
        "        self.fc1 = nn.Linear(320, 50)\n",
        "        self.fc2 = nn.Linear(50, out_features)\n",
        "\n",
        "    def forward(self, x):\n",
        "        x = F.relu(F.max_pool2d(self.conv1(x), 2))\n",
        "        x = F.relu(F.max_pool2d(self.conv2(x), 2))\n",
        "        x = x.view(-1, 320)\n",
        "        x = F.relu(self.fc1(x))\n",
        "        x = F.dropout(x, training=self.training)\n",
        "        x = self.fc2(x)\n",
        "        return F.log_softmax(x)"
      ],
      "metadata": {
        "id": "io8akQTmri1u"
      }
    },
    {
      "cell_type": "code",
      "execution_count": 114,
      "outputs": [],
      "source": [
        "load_from_existing = False"
      ],
      "metadata": {
        "id": "tGoDHhlJri1v"
      }
    },
    {
      "cell_type": "code",
      "execution_count": 115,
      "outputs": [
        {
          "output_type": "execute_result",
          "data": {
            "text/plain": [
              "CNN(\n",
              "  (conv1): Conv2d(1, 10, kernel_size=(5, 5), stride=(1, 1))\n",
              "  (conv2): Conv2d(10, 20, kernel_size=(5, 5), stride=(1, 1))\n",
              "  (fc1): Linear(in_features=320, out_features=50, bias=True)\n",
              "  (fc2): Linear(in_features=50, out_features=10, bias=True)\n",
              ")"
            ]
          },
          "metadata": {},
          "execution_count": 115
        }
      ],
      "source": [
        "number_of_labels = len(trainset.classes)\n",
        "model = CNN(number_of_labels)\n",
        "\n",
        "if load_from_existing:\n",
        "    model.load_state_dict(torch.load('default_cnn.mdl'))\n",
        "    print('loaded from previous save !!!')\n",
        "model.to(device)"
      ],
      "metadata": {
        "colab": {
          "base_uri": "https://localhost:8080/"
        },
        "id": "f-g08v15ri1v",
        "outputId": "ff12c785-3c2b-4967-dda3-709372d8705d"
      }
    },
    {
      "cell_type": "markdown",
      "source": [
        "Навчання моделі"
      ],
      "metadata": {
        "collapsed": false,
        "id": "5iPFMspyri1w"
      }
    },
    {
      "cell_type": "code",
      "execution_count": 116,
      "outputs": [],
      "source": [
        "cross_el = torch.nn.CrossEntropyLoss()\n",
        "optimizer = torch.optim.Adam(model.parameters(), lr=3e-5)\n",
        "epochs = 10"
      ],
      "metadata": {
        "id": "vBQQyqzcri1w"
      }
    },
    {
      "cell_type": "code",
      "execution_count": 117,
      "outputs": [],
      "source": [
        "def evalute(model, loader):\n",
        "    model.eval()\n",
        "\n",
        "    correct = 0\n",
        "    total = len(loader.dataset)\n",
        "    val_bar = tqdm(loader, file=sys.stdout)\n",
        "    for x, y in val_bar:\n",
        "        x, y = x.to(device), y.to(device)\n",
        "        with torch.no_grad():\n",
        "            logits = model(x)\n",
        "            pred = logits.argmax(dim=1)\n",
        "        correct += torch.eq(pred, y).sum().float().item()\n",
        "\n",
        "\n",
        "    return correct / total"
      ],
      "metadata": {
        "id": "MowsYBMMri1w"
      }
    },
    {
      "cell_type": "code",
      "execution_count": 118,
      "outputs": [
        {
          "output_type": "stream",
          "name": "stdout",
          "text": [
            "train epoch[1/10] loss:2.274:   1%|          | 38/3750 [00:00<00:20, 185.50it/s]"
          ]
        },
        {
          "output_type": "stream",
          "name": "stderr",
          "text": [
            "/usr/local/lib/python3.7/dist-packages/ipykernel_launcher.py:16: UserWarning: Implicit dimension choice for log_softmax has been deprecated. Change the call to include dim=X as an argument.\n",
            "  app.launch_new_instance()\n"
          ]
        },
        {
          "output_type": "stream",
          "name": "stdout",
          "text": [
            "train epoch[1/10] loss:0.678: 100%|██████████| 3750/3750 [00:20<00:00, 182.89it/s]\n",
            "100%|██████████| 625/625 [00:02<00:00, 298.46it/s]\n",
            "test_acc =  0.91\n",
            "train epoch[2/10] loss:0.466: 100%|██████████| 3750/3750 [00:21<00:00, 177.31it/s]\n",
            "100%|██████████| 625/625 [00:02<00:00, 301.15it/s]\n",
            "test_acc =  0.9392\n",
            "train epoch[3/10] loss:0.216: 100%|██████████| 3750/3750 [00:20<00:00, 180.01it/s]\n",
            "100%|██████████| 625/625 [00:02<00:00, 298.51it/s]\n",
            "test_acc =  0.9512\n",
            "train epoch[4/10] loss:0.124: 100%|██████████| 3750/3750 [00:20<00:00, 184.39it/s]\n",
            "100%|██████████| 625/625 [00:02<00:00, 289.80it/s]\n",
            "test_acc =  0.9599\n",
            "train epoch[5/10] loss:0.233: 100%|██████████| 3750/3750 [00:20<00:00, 186.76it/s]\n",
            "100%|██████████| 625/625 [00:02<00:00, 295.70it/s]\n",
            "test_acc =  0.9644\n",
            "train epoch[6/10] loss:0.099: 100%|██████████| 3750/3750 [00:20<00:00, 185.35it/s]\n",
            "100%|██████████| 625/625 [00:02<00:00, 295.26it/s]\n",
            "test_acc =  0.9679\n",
            "train epoch[7/10] loss:0.109: 100%|██████████| 3750/3750 [00:20<00:00, 186.15it/s]\n",
            "100%|██████████| 625/625 [00:02<00:00, 296.26it/s]\n",
            "test_acc =  0.9717\n",
            "train epoch[8/10] loss:0.112: 100%|██████████| 3750/3750 [00:20<00:00, 185.20it/s]\n",
            "100%|██████████| 625/625 [00:02<00:00, 297.46it/s]\n",
            "test_acc =  0.9745\n",
            "train epoch[9/10] loss:0.096: 100%|██████████| 3750/3750 [00:20<00:00, 187.41it/s]\n",
            "100%|██████████| 625/625 [00:02<00:00, 297.12it/s]\n",
            "test_acc =  0.9752\n",
            "train epoch[10/10] loss:0.289: 100%|██████████| 3750/3750 [00:20<00:00, 185.77it/s]\n",
            "100%|██████████| 625/625 [00:02<00:00, 297.58it/s]\n",
            "test_acc =  0.9771\n"
          ]
        }
      ],
      "source": [
        "def train_model(train_dl, test_dl, model_name='model.mdl'):\n",
        "    losses = []\n",
        "    accuracy = []\n",
        "    for epoch in range(epochs):\n",
        "        epoch_losses=[]\n",
        "        model.train()\n",
        "        train_bar = tqdm(train_dl, file=sys.stdout)\n",
        "        for data in train_bar:\n",
        "            x, y = data\n",
        "            output = model(x.to(device))\n",
        "            loss = cross_el(output, y.to(device))\n",
        "            epoch_losses.append(loss.item())\n",
        "            optimizer.zero_grad()\n",
        "            loss.backward()\n",
        "            optimizer.step()\n",
        "            train_bar.desc = \"train epoch[{}/{}] loss:{:.3f}\".format(epoch + 1, epochs, loss)\n",
        "        losses.append(np.mean(epoch_losses))\n",
        "        if epoch % 1 == 0:  # You can change the validation frequency as you wish\n",
        "\n",
        "            val_acc = evalute(model, test_dl)\n",
        "            accuracy.append(val_acc)\n",
        "            print('test_acc = ', val_acc)\n",
        "        torch.save(model.state_dict(), model_name)\n",
        "    return losses, accuracy\n",
        "\n",
        "default_loss, default_accuracy = train_model(trainloader, testloader, 'default_cnn.mdl')"
      ],
      "metadata": {
        "colab": {
          "base_uri": "https://localhost:8080/"
        },
        "id": "aLmll0YJri1w",
        "outputId": "86d797f1-88ef-4f2f-cd2b-2ad4f8855abf"
      }
    },
    {
      "cell_type": "code",
      "execution_count": 119,
      "outputs": [
        {
          "output_type": "display_data",
          "data": {
            "text/plain": [
              "<Figure size 432x288 with 1 Axes>"
            ],
            "image/png": "[encoded data removed]"
          },
          "metadata": {
            "needs_background": "light"
          }
        }
      ],
      "source": [
        "plt.plot(default_loss, label='losses',color='red')\n",
        "plt.plot(default_accuracy, label= 'accuracy', color='blue')\n",
        "plt.legend()\n",
        "plt.show()"
      ],
      "metadata": {
        "colab": {
          "base_uri": "https://localhost:8080/",
          "height": 265
        },
        "id": "zVWBcjtxri1x",
        "outputId": "9ba7a9e0-0cfe-416d-8c04-f733f041c09f"
      }
    },
    {
      "cell_type": "markdown",
      "source": [
        "## Dropout реалізація"
      ],
      "metadata": {
        "id": "rWDmj1xH0rbU"
      }
    },
    {
      "cell_type": "code",
      "execution_count": 120,
      "outputs": [],
      "source": [
        "class CustomDropout(nn.Module):\n",
        "    def __init__(self, p: float = 0.5):\n",
        "        super(CustomDropout, self).__init__()\n",
        "        if p < 0 or p > 1:\n",
        "            raise ValueError(\"dropout probability has to be between 0 and 1, \" \"but got {}\".format(p))\n",
        "        self.p = p\n",
        "\n",
        "    def forward(self, X):\n",
        "        if self.training:\n",
        "            binomial = torch.distributions.binomial.Binomial(probs=1-self.p)\n",
        "            return X * (binomial.sample(X.size()) * (1.0/(1-self.p))).to(device)\n",
        "        return X"
      ],
      "metadata": {
        "id": "0GUl98J3ri1x"
      }
    },
    {
      "cell_type": "code",
      "source": [
        "class CNNWithDropout(nn.Module):\n",
        "    def __init__(self, out_features):\n",
        "        super(CNNWithDropout, self).__init__()\n",
        "        self.conv1 = nn.Conv2d(1, 10, kernel_size=5)\n",
        "        self.conv2 = nn.Conv2d(10, 20, kernel_size=5)\n",
        "        self.conv2_drop = CustomDropout(0.25)\n",
        "        self.fc1 = nn.Linear(320, 50)\n",
        "        self.fc2 = nn.Linear(50, out_features)\n",
        "\n",
        "    def forward(self, x):\n",
        "        x = F.relu(F.max_pool2d(self.conv1(x), 2))\n",
        "        x = F.relu(F.max_pool2d(self.conv2_drop(self.conv2(x)), 2))\n",
        "        x = x.view(-1, 320)\n",
        "        x = F.relu(self.fc1(x))\n",
        "        x = self.fc2(x)\n",
        "        return F.log_softmax(x)"
      ],
      "metadata": {
        "id": "lxisvQu-1wJM"
      },
      "execution_count": 121,
      "outputs": []
    },
    {
      "cell_type": "code",
      "source": [
        "model = CNNWithDropout(number_of_labels)\n",
        "\n",
        "if load_from_existing:\n",
        "    model.load_state_dict(torch.load('dropout_cnn.mdl'))\n",
        "    print('loaded from previous save !!!')\n",
        "model.to(device)"
      ],
      "metadata": {
        "colab": {
          "base_uri": "https://localhost:8080/"
        },
        "id": "pgAiUzsw2PqF",
        "outputId": "698d1ead-d2e1-4b33-ff95-43bece6af636"
      },
      "execution_count": 122,
      "outputs": [
        {
          "output_type": "execute_result",
          "data": {
            "text/plain": [
              "CNNWithDropout(\n",
              "  (conv1): Conv2d(1, 10, kernel_size=(5, 5), stride=(1, 1))\n",
              "  (conv2): Conv2d(10, 20, kernel_size=(5, 5), stride=(1, 1))\n",
              "  (conv2_drop): CustomDropout()\n",
              "  (fc1): Linear(in_features=320, out_features=50, bias=True)\n",
              "  (fc2): Linear(in_features=50, out_features=10, bias=True)\n",
              ")"
            ]
          },
          "metadata": {},
          "execution_count": 122
        }
      ]
    },
    {
      "cell_type": "code",
      "source": [
        "optimizer = torch.optim.Adam(model.parameters(), lr=3e-5)\n",
        "dropout_loss, dropout_accuracy = train_model(trainloader, testloader, 'dropout_cnn.mdl')"
      ],
      "metadata": {
        "colab": {
          "base_uri": "https://localhost:8080/"
        },
        "id": "6Ax5dBSI2cno",
        "outputId": "670bf7ed-cfc9-41a1-ed35-59f2c61c6bf7"
      },
      "execution_count": 123,
      "outputs": [
        {
          "output_type": "stream",
          "name": "stdout",
          "text": [
            "train epoch[1/10] loss:2.293:   0%|          | 2/3750 [00:00<05:14, 11.93it/s]"
          ]
        },
        {
          "output_type": "stream",
          "name": "stderr",
          "text": [
            "/usr/local/lib/python3.7/dist-packages/ipykernel_launcher.py:16: UserWarning: Implicit dimension choice for log_softmax has been deprecated. Change the call to include dim=X as an argument.\n",
            "  app.launch_new_instance()\n"
          ]
        },
        {
          "output_type": "stream",
          "name": "stdout",
          "text": [
            "train epoch[1/10] loss:0.248: 100%|██████████| 3750/3750 [00:27<00:00, 137.89it/s]\n",
            "100%|██████████| 625/625 [00:02<00:00, 293.24it/s]\n",
            "test_acc =  0.9058\n",
            "train epoch[2/10] loss:0.095: 100%|██████████| 3750/3750 [00:26<00:00, 140.05it/s]\n",
            "100%|██████████| 625/625 [00:02<00:00, 295.66it/s]\n",
            "test_acc =  0.9365\n",
            "train epoch[3/10] loss:0.164: 100%|██████████| 3750/3750 [00:26<00:00, 139.99it/s]\n",
            "100%|██████████| 625/625 [00:02<00:00, 297.83it/s]\n",
            "test_acc =  0.9514\n",
            "train epoch[4/10] loss:0.351: 100%|██████████| 3750/3750 [00:27<00:00, 138.13it/s]\n",
            "100%|██████████| 625/625 [00:02<00:00, 285.74it/s]\n",
            "test_acc =  0.961\n",
            "train epoch[5/10] loss:0.107: 100%|██████████| 3750/3750 [00:27<00:00, 138.21it/s]\n",
            "100%|██████████| 625/625 [00:02<00:00, 294.82it/s]\n",
            "test_acc =  0.9674\n",
            "train epoch[6/10] loss:0.077: 100%|██████████| 3750/3750 [00:27<00:00, 137.29it/s]\n",
            "100%|██████████| 625/625 [00:02<00:00, 298.17it/s]\n",
            "test_acc =  0.9708\n",
            "train epoch[7/10] loss:0.025: 100%|██████████| 3750/3750 [00:27<00:00, 137.96it/s]\n",
            "100%|██████████| 625/625 [00:02<00:00, 298.81it/s]\n",
            "test_acc =  0.976\n",
            "train epoch[8/10] loss:0.014: 100%|██████████| 3750/3750 [00:27<00:00, 138.33it/s]\n",
            "100%|██████████| 625/625 [00:02<00:00, 295.83it/s]\n",
            "test_acc =  0.9769\n",
            "train epoch[9/10] loss:0.283: 100%|██████████| 3750/3750 [00:27<00:00, 138.30it/s]\n",
            "100%|██████████| 625/625 [00:02<00:00, 297.61it/s]\n",
            "test_acc =  0.9782\n",
            "train epoch[10/10] loss:0.076: 100%|██████████| 3750/3750 [00:36<00:00, 102.08it/s]\n",
            "100%|██████████| 625/625 [00:02<00:00, 288.52it/s]\n",
            "test_acc =  0.9801\n"
          ]
        }
      ]
    },
    {
      "cell_type": "code",
      "source": [
        "plt.plot(dropout_loss, label='losses',color='red')\n",
        "plt.plot(dropout_accuracy, label= 'accuracy', color='blue')\n",
        "plt.legend()\n",
        "plt.show()"
      ],
      "metadata": {
        "colab": {
          "base_uri": "https://localhost:8080/",
          "height": 265
        },
        "id": "SFEvqXwTHscM",
        "outputId": "47e525e2-b64d-45c5-d1da-59806b5a706a"
      },
      "execution_count": 124,
      "outputs": [
        {
          "output_type": "display_data",
          "data": {
            "text/plain": [
              "<Figure size 432x288 with 1 Axes>"
            ],
            "image/png": "[encoded data removed]"
          },
          "metadata": {
            "needs_background": "light"
          }
        }
      ]
    },
    {
      "cell_type": "markdown",
      "source": [
        "## Attention Layer реалізація"
      ],
      "metadata": {
        "id": "rLUAiY-C1TjH"
      }
    },
    {
      "cell_type": "code",
      "source": [
        "class AttentionBlock(nn.Module):\n",
        "    \"\"\" Self attention Layer\"\"\"\n",
        "    def __init__(self,in_dim):\n",
        "        super(AttentionBlock,self).__init__()\n",
        "        self.chanel_in = in_dim\n",
        "        \n",
        "        self.query_conv = nn.Conv2d(in_channels = in_dim , out_channels = in_dim//2 , kernel_size= 1)\n",
        "        self.key_conv = nn.Conv2d(in_channels = in_dim , out_channels = in_dim//2 , kernel_size= 1)\n",
        "        self.value_conv = nn.Conv2d(in_channels = in_dim , out_channels = in_dim , kernel_size= 1)\n",
        "        self.gamma = nn.Parameter(torch.zeros(1))\n",
        "\n",
        "        self.softmax  = nn.Softmax(dim=-1) #\n",
        "    def forward(self,x):\n",
        "        \"\"\"\n",
        "            inputs :\n",
        "                x : input feature maps( B X C X W X H)\n",
        "            returns :\n",
        "                out : self attention value + input feature \n",
        "                attention: B X N X N (N is Width*Height)\n",
        "        \"\"\"\n",
        "        B,C,W ,H = x.size()\n",
        "        proj_query  = self.query_conv(x).view(B,-1,W*H).permute(0,2,1) # B X CX(N)\n",
        "        proj_key =  self.key_conv(x).view(B,-1,W*H) # B X C x (*W*H)\n",
        "        energy =  torch.bmm(proj_query,proj_key) # transpose check\n",
        "        attention = self.softmax(energy) # BX (N) X (N) \n",
        "        proj_value = self.value_conv(x).view(B,-1,W*H) # B X C X N\n",
        "\n",
        "        out = torch.bmm(proj_value,attention.permute(0,2,1) )\n",
        "        out = out.view(B,C,W,H)\n",
        "        \n",
        "        out = self.gamma*out + x\n",
        "        return out,attention"
      ],
      "metadata": {
        "id": "P2ae54B01YBn"
      },
      "execution_count": 125,
      "outputs": []
    },
    {
      "cell_type": "code",
      "source": [
        "class CNNWithAttention(nn.Module):\n",
        "    def __init__(self, out_features):\n",
        "        super(CNNWithAttention, self).__init__()\n",
        "        # in: (1, 28, 28) , out: (10, 28, 28)\n",
        "        self.conv1 = nn.Conv2d(1, 10, kernel_size=5)\n",
        "        # in: (10, 14, 14) , out: (20, 14, 14)\n",
        "        self.conv2 = nn.Conv2d(10, 20, kernel_size=5)\n",
        "        self.fc1 = nn.Linear(320, 50)\n",
        "        self.fc2 = nn.Linear(50, out_features)\n",
        "\n",
        "        self.attention = AttentionBlock(10)\n",
        "\n",
        "    def forward(self, x):\n",
        "        x = F.max_pool2d(self.conv1(x), 2)\n",
        "        x, attention = self.attention(x)\n",
        "        x = F.relu(x)\n",
        "  \n",
        "        x = F.max_pool2d(self.conv2(x), 2)\n",
        "        x = F.relu(x)\n",
        "        x = x.view(-1, 320)\n",
        "        x = F.relu(self.fc1(x))\n",
        "        x = self.fc2(x)\n",
        "        return F.log_softmax(x)"
      ],
      "metadata": {
        "id": "6ZVjGR1I6L1B"
      },
      "execution_count": 126,
      "outputs": []
    },
    {
      "cell_type": "code",
      "source": [
        "model = CNNWithAttention(number_of_labels)\n",
        "\n",
        "if load_from_existing:\n",
        "    model.load_state_dict(torch.load('attention_cnn.mdl'))\n",
        "    print('loaded from previous save !!!')\n",
        "model.to(device)"
      ],
      "metadata": {
        "colab": {
          "base_uri": "https://localhost:8080/"
        },
        "id": "IEdiCD0BHhBb",
        "outputId": "d88d6aa9-f604-4350-eb34-6d1d7b48601b"
      },
      "execution_count": 127,
      "outputs": [
        {
          "output_type": "execute_result",
          "data": {
            "text/plain": [
              "CNNWithAttention(\n",
              "  (conv1): Conv2d(1, 10, kernel_size=(5, 5), stride=(1, 1))\n",
              "  (conv2): Conv2d(10, 20, kernel_size=(5, 5), stride=(1, 1))\n",
              "  (fc1): Linear(in_features=320, out_features=50, bias=True)\n",
              "  (fc2): Linear(in_features=50, out_features=10, bias=True)\n",
              "  (attention): AttentionBlock(\n",
              "    (query_conv): Conv2d(10, 5, kernel_size=(1, 1), stride=(1, 1))\n",
              "    (key_conv): Conv2d(10, 5, kernel_size=(1, 1), stride=(1, 1))\n",
              "    (value_conv): Conv2d(10, 10, kernel_size=(1, 1), stride=(1, 1))\n",
              "    (softmax): Softmax(dim=-1)\n",
              "  )\n",
              ")"
            ]
          },
          "metadata": {},
          "execution_count": 127
        }
      ]
    },
    {
      "cell_type": "code",
      "source": [
        "optimizer = torch.optim.Adam(model.parameters(), lr=3e-5)\n",
        "attention_loss, attention_accuracy = train_model(trainloader, testloader, 'attention_cnn.mdl')"
      ],
      "metadata": {
        "colab": {
          "base_uri": "https://localhost:8080/"
        },
        "id": "wvFLWS1RHjDC",
        "outputId": "7f1965fd-bec8-4121-d11f-4991c7ca7c79"
      },
      "execution_count": null,
      "outputs": [
        {
          "output_type": "stream",
          "name": "stdout",
          "text": [
            "train epoch[1/10] loss:2.302:   0%|          | 16/3750 [00:00<00:46, 79.59it/s]"
          ]
        },
        {
          "output_type": "stream",
          "name": "stderr",
          "text": [
            "/usr/local/lib/python3.7/dist-packages/ipykernel_launcher.py:23: UserWarning: Implicit dimension choice for log_softmax has been deprecated. Change the call to include dim=X as an argument.\n"
          ]
        },
        {
          "output_type": "stream",
          "name": "stdout",
          "text": [
            "train epoch[1/10] loss:0.780: 100%|██████████| 3750/3750 [00:28<00:00, 130.06it/s]\n",
            "100%|██████████| 625/625 [00:02<00:00, 266.93it/s]\n",
            "test_acc =  0.9189\n",
            "train epoch[2/10] loss:0.116:  71%|███████▏  | 2678/3750 [00:19<00:07, 141.68it/s]"
          ]
        }
      ]
    },
    {
      "cell_type": "code",
      "source": [
        "plt.plot(attention_loss, label='losses',color='red')\n",
        "plt.plot(attention_accuracy, label= 'accuracy', color='blue')\n",
        "plt.legend()\n",
        "plt.show()"
      ],
      "metadata": {
        "id": "lSx4r3a1Hx4G"
      },
      "execution_count": null,
      "outputs": []
    },
    {
      "cell_type": "markdown",
      "source": [
        "## Inseption Block"
      ],
      "metadata": {
        "id": "eyrmpYuJPBdc"
      }
    },
    {
      "cell_type": "code",
      "source": [
        "class InceptionBlock(nn.Module):\n",
        "    def __init__(\n",
        "        self, \n",
        "        in_channels, \n",
        "        out_1x1,\n",
        "        red_3x3,\n",
        "        out_3x3,\n",
        "        red_5x5,\n",
        "        out_5x5\n",
        "    ):\n",
        "        super(InceptionBlock, self).__init__()\n",
        "        self.branch1 = nn.Sequential(\n",
        "            nn.Conv2d(in_channels, out_1x1, kernel_size=1),\n",
        "            nn.ReLU()\n",
        "        )\n",
        "        self.branch2 = nn.Sequential(\n",
        "            nn.Conv2d(in_channels, red_3x3, kernel_size=1, padding=0),\n",
        "            nn.ReLU(),\n",
        "            nn.Conv2d(red_3x3, out_3x3, kernel_size=3, padding=1),\n",
        "            nn.ReLU()\n",
        "        )\n",
        "        self.branch3 = nn.Sequential(\n",
        "            nn.Conv2d(in_channels, red_5x5, kernel_size=1),\n",
        "            nn.ReLU(),\n",
        "            nn.Conv2d(red_5x5, out_5x5, kernel_size=5, padding=2),\n",
        "            nn.ReLU()\n",
        "        )\n",
        "    \n",
        "    def forward(self, x):\n",
        "        branches = (self.branch1, self.branch2, self.branch3)\n",
        "        return torch.cat([branch(x) for branch in branches], 1)"
      ],
      "metadata": {
        "id": "pW-g_9vZPSVo"
      },
      "execution_count": null,
      "outputs": []
    },
    {
      "cell_type": "code",
      "source": [
        "class CNNInceptionBlock(nn.Module):\n",
        "    def __init__(self, out_features):\n",
        "        super(CNNInceptionBlock, self).__init__()\n",
        "        # in: (1, 28, 28) , out: (10, 28, 28)\n",
        "        self.conv1 = nn.Conv2d(1, 10, kernel_size=5)\n",
        "        # in: (10, 14, 14) , out: (20, 14, 14)\n",
        "        self.conv2 = InceptionBlock(10, 20, 15, 20, 10, 10)\n",
        "        self.fc1 = nn.Linear(50*6*6, 50)\n",
        "        self.fc2 = nn.Linear(50, out_features)\n",
        "\n",
        "\n",
        "    def forward(self, x):\n",
        "        x = self.conv1(x)\n",
        "        x = F.max_pool2d(x, 2)\n",
        "        x = F.relu(x)\n",
        "        x = F.max_pool2d(self.conv2(x), 2)\n",
        "\n",
        "        x = F.relu(x)\n",
        "        x = x.view(-1, 50*6*6)\n",
        "        x = F.relu(self.fc1(x))\n",
        "        x = self.fc2(x)\n",
        "        return F.log_softmax(x)"
      ],
      "metadata": {
        "id": "D0hREw3bQsZu"
      },
      "execution_count": null,
      "outputs": []
    },
    {
      "cell_type": "code",
      "source": [
        "model = CNNInceptionBlock(number_of_labels)\n",
        "\n",
        "if load_from_existing:\n",
        "    model.load_state_dict(torch.load('inception_cnn.mdl'))\n",
        "    print('loaded from previous save !!!')\n",
        "model.to(device)"
      ],
      "metadata": {
        "id": "nhuTR_QQQauZ"
      },
      "execution_count": null,
      "outputs": []
    },
    {
      "cell_type": "code",
      "source": [
        "optimizer = torch.optim.Adam(model.parameters(), lr=3e-5)\n",
        "inception_loss, inception_accuracy = train_model(trainloader, testloader, 'inception_cnn.mdl')"
      ],
      "metadata": {
        "id": "Wk1Og4MuQaug"
      },
      "execution_count": null,
      "outputs": []
    },
    {
      "cell_type": "code",
      "source": [
        "plt.plot(inception_loss, label='losses',color='red')\n",
        "plt.plot(inception_accuracy, label= 'accuracy', color='blue')\n",
        "plt.legend()\n",
        "plt.show()"
      ],
      "metadata": {
        "id": "5FN3FsHaQaug"
      },
      "execution_count": null,
      "outputs": []
    },
    {
      "cell_type": "markdown",
      "source": [
        "## Загальні результати "
      ],
      "metadata": {
        "id": "hbxuBlGF697S"
      }
    },
    {
      "cell_type": "code",
      "source": [
        "plt.figure(figsize=(10, 10))\n",
        "plt.title('Losses')\n",
        "plt.plot(inception_loss, label='inception',color='red')\n",
        "plt.plot(attention_loss, label='attention',color='yellow')\n",
        "plt.plot(dropout_loss, label='dropout',color='blue')\n",
        "plt.plot(default_loss, label='default',color='green')\n",
        "plt.legend()\n",
        "plt.show()"
      ],
      "metadata": {
        "id": "ouJS75ha7A_6"
      },
      "execution_count": null,
      "outputs": []
    },
    {
      "cell_type": "code",
      "source": [
        "plt.figure(figsize=(10, 10))\n",
        "plt.title('Accuracy')\n",
        "plt.plot(inception_accuracy, label='inception',color='red')\n",
        "plt.plot(attention_accuracy, label='attention',color='yellow')\n",
        "plt.plot(dropout_accuracy, label='dropout',color='blue')\n",
        "plt.plot(default_accuracy, label='default',color='green')\n",
        "plt.legend()\n",
        "plt.show()"
      ],
      "metadata": {
        "id": "Krbr59SG9J4J"
      },
      "execution_count": null,
      "outputs": []
    }
  ],
  "metadata": {
    "kernelspec": {
      "display_name": "Python 3",
      "language": "python",
      "name": "python3"
    },
    "language_info": {
      "codemirror_mode": {
        "name": "ipython",
        "version": 2
      },
      "file_extension": ".py",
      "mimetype": "text/x-python",
      "name": "python",
      "nbconvert_exporter": "python",
      "pygments_lexer": "ipython2",
      "version": "2.7.6"
    },
    "colab": {
      "provenance": [],
      "collapsed_sections": [],
      "include_colab_link": true
    },
    "accelerator": "GPU",
    "gpuClass": "standard"
  },
  "nbformat": 4,
  "nbformat_minor": 0
}